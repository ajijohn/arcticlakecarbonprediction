{
	"cells": [
		{
			"cell_type": "markdown",
			"id": "0f7deec0",
			"metadata": {
				"language": "markdown"
			},
			"source": [
				"Copies images and masks from the correct source directories to the testing and training directories, keeping newdata separate in training."
			]
		},
		{
			"cell_type": "code",
			"execution_count": 1,
			"id": "545c7be6",
			"metadata": {
				"language": "python"
			},
			"outputs": [],
			"source": [
				"import shutil\n",
				"import random\n",
				"from pathlib import Path\n",
				"import os\n",
				"\n",
				"script_dir = Path(os.getcwd()).parent"
			]
		},
		{
			"cell_type": "code",
			"execution_count": 2,
			"id": "cf74a319",
			"metadata": {
				"language": "python"
			},
			"outputs": [],
			"source": [
				"# Define directories\n",
				"\n",
				"# Source directories\n",
				"new_images_dir = script_dir / \"newdata/images\"\n",
				"new_json_dir = script_dir / \"newdata/json\"\n",
				"new_masks_dir = script_dir / \"newdata/masks\"\n",
				"test_images_list = script_dir / \"newdata/test_images.txt\"\n",
				"\n",
				"# Destination directories\n",
				"train_images_dir = script_dir / \"temp/training/images\"\n",
				"train_masks_dir = script_dir / \"temp/training/masks\"\n",
				"train_new_images_dir = script_dir / \"temp/training/new_images\"\n",
				"train_new_masks_dir = script_dir / \"temp/training/new_masks\"\n",
				"test_images_dir = script_dir / \"temp/testing/images\"\n",
				"test_masks_dir = script_dir / \"temp/testing/masks\"\n",
				"\n",
				"# Number of images to be chosen for testing (if test_images_list doesn't exist)\n",
				"test_num = 100"
			]
		},
		{
			"cell_type": "code",
			"execution_count": 3,
			"id": "5b1cde64",
			"metadata": {
				"language": "python"
			},
			"outputs": [
				{
					"name": "stdout",
					"output_type": "stream",
					"text": [
						"Setup complete - only new data copied (no supplement data).\n"
					]
				}
			],
			"source": [
				"# Create the destination directories if they don't exist\n",
				"train_images_dir.mkdir(parents=True, exist_ok=True)\n",
				"train_masks_dir.mkdir(parents=True, exist_ok=True)\n",
				"train_new_images_dir.mkdir(parents=True, exist_ok=True)\n",
				"train_new_masks_dir.mkdir(parents=True, exist_ok=True)\n",
				"test_images_dir.mkdir(parents=True, exist_ok=True)\n",
				"test_masks_dir.mkdir(parents=True, exist_ok=True)\n",
				"\n",
				"# Delete all files in /testing and /training subdirectories\n",
				"for directory in [train_images_dir, train_masks_dir, train_new_images_dir, train_new_masks_dir, test_images_dir, test_masks_dir]:\n",
				"    for file in directory.iterdir():\n",
				"        if file.is_file():\n",
				"            file.unlink()\n",
				"\n",
				"# Get list of non-empty image/mask pairs\n",
				"json_files = [f for f in new_json_dir.iterdir() if f.is_file()]\n",
				"\n",
				"# Check if test_images_list exists\n",
				"if not test_images_list.exists():\n",
				"    # Randomly pick N non-empty image/mask pairs\n",
				"    test_images = random.sample(json_files, test_num)\n",
				"    # Sort test images by the first number in their name\n",
				"    test_images.sort(key=lambda x: int(x.stem.split(\"_\")[0]))\n",
				"    # Write test images to file\n",
				"    with open(test_images_list, \"w\") as f:\n",
				"        for json_file in test_images:\n",
				"            f.write(f\"{json_file.stem}\\n\")\n",
				"else:\n",
				"    # Read test images from file\n",
				"    with open(test_images_list, \"r\") as f:\n",
				"        test_images = [new_json_dir / f\"{line.strip()}.json\" for line in f]\n",
				"\n",
				"# Copy test images and masks\n",
				"for json_file in test_images:\n",
				"    image_file = new_images_dir / f\"{json_file.stem}.jpg\"\n",
				"    mask_file = new_masks_dir / f\"{json_file.stem}.jpg\"\n",
				"\n",
				"    # Check if files exist before copying\n",
				"    if image_file.exists():\n",
				"        shutil.copy(image_file, test_images_dir / image_file.name)\n",
				"    else:\n",
				"        print(f\"Warning: Test image not found: {image_file}\")\n",
				"\n",
				"    if mask_file.exists():\n",
				"        shutil.copy(mask_file, test_masks_dir / mask_file.name)\n",
				"    else:\n",
				"        print(f\"Warning: Test mask not found: {mask_file}\")\n",
				"\n",
				"mask_files = [f for f in new_masks_dir.iterdir() if f.is_file()]\n",
				"test_image_stems = {json_file.stem for json_file in test_images}\n",
				"\n",
				"# Copy remaining newdata images and masks to training_newdata directory\n",
				"for mask_file_path in mask_files:\n",
				"    if mask_file_path.stem not in test_image_stems:\n",
				"        image_file_path = new_images_dir / f\"{mask_file_path.stem}.jpg\"\n",
				"\n",
				"        # Check if files exist before copying\n",
				"        if image_file_path.exists():\n",
				"            shutil.copy(image_file_path, train_new_images_dir / image_file_path.name)\n",
				"        else:\n",
				"            print(f\"Warning: Newdata training image not found: {image_file_path}\")\n",
				"\n",
				"        if mask_file_path.exists():\n",
				"            shutil.copy(mask_file_path, train_new_masks_dir / mask_file_path.name)\n",
				"        else:\n",
				"            print(f\"Warning: Newdata training mask not found: {mask_file_path}\")\n",
				"\n",
				"print(f\"Setup complete - only new data copied (no supplement data).\")"
			]
		}
	],
	"metadata": {
		"kernelspec": {
			"display_name": "Python 3",
			"language": "python",
			"name": "python3"
		},
		"language_info": {
			"codemirror_mode": {
				"name": "ipython",
				"version": 3
			},
			"file_extension": ".py",
			"mimetype": "text/x-python",
			"name": "python",
			"nbconvert_exporter": "python",
			"pygments_lexer": "ipython3",
			"version": "3.10.12"
		}
	},
	"nbformat": 4,
	"nbformat_minor": 5
}
